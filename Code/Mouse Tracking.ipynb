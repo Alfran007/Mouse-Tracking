{
 "cells": [
  {
   "cell_type": "code",
   "execution_count": null,
   "metadata": {},
   "outputs": [],
   "source": [
    "import cv2\n",
    "import numpy as np\n",
    "from pynput.mouse import Button, Controller\n",
    "import wx\n",
    "mouse=Controller()\n",
    "\n",
    "app=wx.App(False)\n",
    "(sx,sy)=wx.GetDisplaySize()\n",
    "(camx,camy)=(320,240)\n",
    "\n",
    "lowerBound=np.array([33,80,40])\n",
    "upperBound=np.array([102,255,255])\n",
    "#lowerBound = np.array([0,255,255])\n",
    "#upperBound = np.array([179,255,255])\n",
    "cam= cv2.VideoCapture(0)\n",
    "cam.set(3,camx)\n",
    "cam.set(4,camy)\n",
    "kernelOpen=np.ones((5,5))\n",
    "kernelClose=np.ones((20,20))\n",
    "pinchFlag=0\n",
    "\n",
    "while True:\n",
    "    k = cv2.waitKey(1) & 0xFF\n",
    "    if k==27:\n",
    "        break\n",
    "    else:\n",
    "        ret, img=cam.read()\n",
    "       # img=cv2.resize(img,(340,220))\n",
    "        img = cv2.flip(img,1)\n",
    "        #convert BGR to HSV\n",
    "        imgHSV= cv2.cvtColor(img,cv2.COLOR_BGR2HSV)\n",
    "        # create the Mask\n",
    "        mask=cv2.inRange(imgHSV,lowerBound,upperBound)\n",
    "        #morphology\n",
    "        maskOpen=cv2.morphologyEx(mask,cv2.MORPH_OPEN,kernelOpen)\n",
    "        maskClose=cv2.morphologyEx(maskOpen,cv2.MORPH_CLOSE,kernelClose)\n",
    "\n",
    "        maskFinal=maskClose\n",
    "        conts,h=cv2.findContours(maskFinal.copy(),cv2.RETR_EXTERNAL,cv2.CHAIN_APPROX_NONE)\n",
    "\n",
    "        if(len(conts)==1):\n",
    "            mouse.release(Button.left)\n",
    "            x,y,w,h=cv2.boundingRect(conts[0])\n",
    "            \n",
    "            cv2.rectangle(img,(x,y),(x+w,y+h),(255,0,0),2)\n",
    "            cx=x+w/2\n",
    "            cy=y+h/2\n",
    "            cv2.circle(img,(cx,cy),(w+h)/4,(0,0,255),2)\n",
    "            mouseLoc=(sx-(cx*sx/camx), cy*sy/camy)\n",
    "            mouse.position=mouseLoc \n",
    "            while mouse.position!=mouseLoc:\n",
    "                pass\n",
    "        cv2.imshow(\"cam\",img)\n",
    "        cv2.waitKey(5)"
   ]
  },
  {
   "cell_type": "code",
   "execution_count": null,
   "metadata": {},
   "outputs": [],
   "source": []
  },
  {
   "cell_type": "code",
   "execution_count": null,
   "metadata": {},
   "outputs": [],
   "source": []
  },
  {
   "cell_type": "code",
   "execution_count": null,
   "metadata": {},
   "outputs": [],
   "source": []
  },
  {
   "cell_type": "code",
   "execution_count": null,
   "metadata": {},
   "outputs": [],
   "source": []
  },
  {
   "cell_type": "code",
   "execution_count": null,
   "metadata": {},
   "outputs": [],
   "source": []
  }
 ],
 "metadata": {
  "kernelspec": {
   "display_name": "Python 2",
   "language": "python",
   "name": "python2"
  },
  "language_info": {
   "codemirror_mode": {
    "name": "ipython",
    "version": 2
   },
   "file_extension": ".py",
   "mimetype": "text/x-python",
   "name": "python",
   "nbconvert_exporter": "python",
   "pygments_lexer": "ipython2",
   "version": "2.7.14"
  }
 },
 "nbformat": 4,
 "nbformat_minor": 2
}
